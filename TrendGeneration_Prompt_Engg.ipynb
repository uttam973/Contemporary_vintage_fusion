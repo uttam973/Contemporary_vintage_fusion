{
  "nbformat": 4,
  "nbformat_minor": 0,
  "metadata": {
    "colab": {
      "provenance": []
    },
    "kernelspec": {
      "name": "python3",
      "display_name": "Python 3"
    },
    "language_info": {
      "name": "python"
    }
  },
  "cells": [
    {
      "cell_type": "code",
      "source": [
        "import google.generativeai as genai\n",
        "from PIL import Image\n",
        "import os\n",
        "import pandas as pd\n",
        "import torch\n",
        "!pip install diffusers\n",
        "from diffusers import StableDiffusionPipeline"
      ],
      "metadata": {
        "id": "dkcoqnNCuiOU"
      },
      "execution_count": null,
      "outputs": []
    },
    {
      "cell_type": "code",
      "source": [
        "api_key = '###'"
      ],
      "metadata": {
        "id": "_XCyigD8ujhl"
      },
      "execution_count": 14,
      "outputs": []
    },
    {
      "cell_type": "code",
      "source": [
        "folder_path = \"/content/drive/MyDrive/Myntra2/MYNTRA\""
      ],
      "metadata": {
        "id": "-RCISCBCu2uc"
      },
      "execution_count": 16,
      "outputs": []
    },
    {
      "cell_type": "code",
      "source": [
        "genai.configure(api_key=api_key)\n",
        "genModel = genai.GenerativeModel('gemini-pro-vision')\n",
        "\n",
        "def generate_vintage_prompt(image_name):\n",
        "    return f\"Hey Gemini, describe this vintage cloth '{image_name}' from a designer's perspective.\"\n",
        "\n",
        "def generate_trendy_prompt(image_path):\n",
        "    return f\"Hey Gemini, create a trendy and contemporary description inspired by this image.\""
      ],
      "metadata": {
        "id": "wb-zRQjt3Y3I"
      },
      "execution_count": null,
      "outputs": []
    },
    {
      "cell_type": "code",
      "source": [
        "# Iterate through images in the folder\n",
        "data = []\n",
        "for idx, image_name in enumerate(os.listdir(folder_path)):\n",
        "    image_path = os.path.join(folder_path, image_name)\n",
        "\n",
        "    # Generate vintage description prompt\n",
        "    vintage_prompt = generate_vintage_prompt(image_name)\n",
        "    vintage_response = genModel.generate_content([vintage_prompt, Image.open(image_path)])\n",
        "    vintage_description = vintage_response.text if vintage_response.parts else \"No vintage description available.\"\n",
        "\n",
        "    # Generate trendy description prompt with image only\n",
        "    trendy_prompt = generate_trendy_prompt(image_path)\n",
        "    trendy_response = genModel.generate_content([trendy_prompt, Image.open(image_path)])\n",
        "    trendy_description = trendy_response.text if trendy_response.parts else \"No trendy description available.\"\n",
        "\n",
        "    data.append({\n",
        "        'ID': idx,\n",
        "        'Image': image_name,\n",
        "        'Vintage Description': vintage_description,\n",
        "        'Trendy Description': trendy_description\n",
        "    })"
      ],
      "metadata": {
        "id": "LrrY0GKI2NnI"
      },
      "execution_count": null,
      "outputs": []
    },
    {
      "cell_type": "code",
      "source": [
        "df = pd.DataFrame(data)\n",
        "excel_file = '/content/drive/MyDrive/Myntra2/MYNTRA/Data.xlsx'\n",
        "df.to_excel(excel_file, index=False)\n",
        "\n",
        "print(f\"Descriptions saved to {excel_file}\")"
      ],
      "metadata": {
        "id": "BI2-FcWfvDc_"
      },
      "execution_count": null,
      "outputs": []
    },
    {
      "cell_type": "code",
      "source": [
        "model_id = \"CompVis/stable-diffusion-v1-4\"\n",
        "pipe = StableDiffusionPipeline.from_pretrained(model_id, torch_dtype=torch.float32)\n",
        "pipe = pipe.to(\"cuda\")\n",
        "\n",
        "output_folder = \"/content/drive/MyDrive/Myntra2/MYNTRA/GeneratedImages\"\n",
        "os.makedirs(output_folder, exist_ok=True)"
      ],
      "metadata": {
        "id": "gExQEzVNuUS6"
      },
      "execution_count": null,
      "outputs": []
    },
    {
      "cell_type": "code",
      "source": [
        "for index, row in df.iterrows():\n",
        "    prompt = row['Trendy Description']\n",
        "    image = pipe(prompt).images[0]\n",
        "\n",
        "    generated_image_path = os.path.join(output_folder, row['Image'])\n",
        "    image.save(generated_image_path)\n",
        "    print(f\"Generated image saved: {generated_image_path}\")"
      ],
      "metadata": {
        "id": "5GAgd86cuUQI"
      },
      "execution_count": null,
      "outputs": []
    }
  ]
}
